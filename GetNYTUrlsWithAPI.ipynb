{
 "cells": [
  {
   "cell_type": "code",
   "execution_count": null,
   "metadata": {},
   "outputs": [],
   "source": [
    "# pulls web URL's and other data from the NYT API"
   ]
  },
  {
   "cell_type": "code",
   "execution_count": 386,
   "metadata": {},
   "outputs": [],
   "source": [
    "initialize lists\n",
    "\n",
    "url_list = []\n",
    "pub_date_list = []\n",
    "headline_list = []\n",
    "snippets = []\n",
    "\n"
   ]
  },
  {
   "cell_type": "code",
   "execution_count": 475,
   "metadata": {
    "scrolled": true
   },
   "outputs": [
    {
     "name": "stdout",
     "output_type": "stream",
     "text": [
      "Done with page #1\n",
      "Done with page #2\n",
      "Done with page #3\n",
      "Done with page #4\n",
      "Done with page #5\n",
      "Done with page #6\n",
      "Done with page #7\n",
      "Done with page #8\n",
      "Done with page #9\n",
      "Done with page #10\n",
      "Done with page #11\n",
      "Done with page #12\n",
      "Done with page #13\n",
      "Done with page #14\n",
      "Done with page #15\n",
      "Done with page #16\n",
      "Done with page #17\n",
      "Done with page #18\n",
      "Done with page #19\n",
      "Done with page #20\n",
      "Done with page #21\n"
     ]
    },
    {
     "ename": "KeyboardInterrupt",
     "evalue": "",
     "output_type": "error",
     "traceback": [
      "\u001b[0;31m---------------------------------------------------------------------------\u001b[0m",
      "\u001b[0;31mKeyboardInterrupt\u001b[0m                         Traceback (most recent call last)",
      "\u001b[0;32m<ipython-input-475-ec62e1aae5e7>\u001b[0m in \u001b[0;36m<module>\u001b[0;34m()\u001b[0m\n\u001b[1;32m     24\u001b[0m         \u001b[0msnippets\u001b[0m\u001b[0;34m.\u001b[0m\u001b[0mappend\u001b[0m\u001b[0;34m(\u001b[0m\u001b[0marticles\u001b[0m\u001b[0;34m[\u001b[0m\u001b[0;34m'response'\u001b[0m\u001b[0;34m]\u001b[0m\u001b[0;34m[\u001b[0m\u001b[0;34m'docs'\u001b[0m\u001b[0;34m]\u001b[0m\u001b[0;34m[\u001b[0m\u001b[0marticle\u001b[0m\u001b[0;34m]\u001b[0m\u001b[0;34m[\u001b[0m\u001b[0;34m'snippet'\u001b[0m\u001b[0;34m]\u001b[0m\u001b[0;34m)\u001b[0m\u001b[0;34m\u001b[0m\u001b[0m\n\u001b[1;32m     25\u001b[0m     \u001b[0mprint\u001b[0m \u001b[0;34m(\u001b[0m\u001b[0;34mf'Done with page #{page}'\u001b[0m\u001b[0;34m)\u001b[0m\u001b[0;34m\u001b[0m\u001b[0m\n\u001b[0;32m---> 26\u001b[0;31m     \u001b[0mtime\u001b[0m\u001b[0;34m.\u001b[0m\u001b[0msleep\u001b[0m\u001b[0;34m(\u001b[0m\u001b[0;36m1\u001b[0m\u001b[0;34m)\u001b[0m\u001b[0;34m\u001b[0m\u001b[0m\n\u001b[0m",
      "\u001b[0;31mKeyboardInterrupt\u001b[0m: "
     ]
    }
   ],
   "source": [
    "import time\n",
    "\n",
    "import requests\n",
    "key = open('NYT_key.txt').read()\n",
    "apikey = '&api-key=' + key\n",
    "\n",
    "num_pages = 100\n",
    "\n",
    "for page in range(1, num_pages + 1, 1):\n",
    "    search = 'https://api.nytimes.com/svc/search/v2/articlesearch.json?'\n",
    "    fq = 'fq=subject.contains:(\"Start-ups\") OR subject.contains:(\"Small Business\") OR subject.contains:(\"Entrepreneur\") OR subject.contains:(\"Venture Capital\") OR subject.contains:(\"Family Business\")'\n",
    "    p = f'&page={page}'\n",
    "    sort = '&sort=newest'\n",
    "    end = '&end_date=19870111' #initializing with today's end date\n",
    "    \n",
    "    query = search + fq + p + end + sort + apikey\n",
    "\n",
    "    articles = requests.get(query).json()\n",
    "    \n",
    "    for article in range(len(articles['response']['docs'])):\n",
    "        url_list.append(articles['response']['docs'][article]['web_url'])\n",
    "        pub_date_list.append(articles['response']['docs'][article]['pub_date'][:10])\n",
    "        headline_list.append(articles['response']['docs'][article]['headline']['main'])\n",
    "        snippets.append(articles['response']['docs'][article]['snippet'])\n",
    "    print (f'Done with page #{page}')\n",
    "    time.sleep(1)"
   ]
  },
  {
   "cell_type": "code",
   "execution_count": 471,
   "metadata": {},
   "outputs": [],
   "source": [
    "import pickle\n",
    "\n",
    "\n",
    "with open('url_list.pkl', 'wb') as picklefile:\n",
    "    pickle.dump(url_list, picklefile)\n",
    "\n",
    "with open('pub_date_list.pkl', 'wb') as picklefile:\n",
    "    pickle.dump(pub_date_list, picklefile)\n",
    "\n",
    "with open('headline_list.pkl', 'wb') as picklefile:\n",
    "    pickle.dump(headline_list, picklefile)\n",
    "\n",
    "with open('snippets.pkl', 'wb') as picklefile:\n",
    "    pickle.dump(snippets, picklefile)\n"
   ]
  },
  {
   "cell_type": "code",
   "execution_count": null,
   "metadata": {},
   "outputs": [],
   "source": [
    "# sniff testing the data below"
   ]
  },
  {
   "cell_type": "code",
   "execution_count": 473,
   "metadata": {},
   "outputs": [
    {
     "data": {
      "text/plain": [
       "'1934-01-02'"
      ]
     },
     "execution_count": 473,
     "metadata": {},
     "output_type": "execute_result"
    }
   ],
   "source": [
    "pub_date_list[-1]"
   ]
  },
  {
   "cell_type": "code",
   "execution_count": 478,
   "metadata": {},
   "outputs": [
    {
     "data": {
      "text/plain": [
       "['https://www.nytimes.com/2018/07/19/opinion/amazon-hq2-google-pittsburgh-jobs.html',\n",
       " 'https://www.nytimes.com/2018/07/18/technology/china-trade-tech.html',\n",
       " 'https://www.nytimes.com/2018/07/16/technology/china-startups-technology-economy.html',\n",
       " 'https://www.nytimes.com/2018/07/11/magazine/facebook-google-uber-tech-giants-power.html',\n",
       " 'https://www.nytimes.com/2018/07/09/technology/uber-invests-lime-electric-scooter.html']"
      ]
     },
     "execution_count": 478,
     "metadata": {},
     "output_type": "execute_result"
    }
   ],
   "source": [
    "url_list[:5]"
   ]
  },
  {
   "cell_type": "code",
   "execution_count": 472,
   "metadata": {},
   "outputs": [
    {
     "data": {
      "text/plain": [
       "['https://query.nytimes.com/gst/abstract.html?res=9D01E3DC1439E33ABC4A53DFB766838F629EDE',\n",
       " 'https://query.nytimes.com/gst/abstract.html?res=9507E0DE1E3DE23ABC4F53DFB766838F629EDE',\n",
       " 'https://query.nytimes.com/gst/abstract.html?res=9C03E4DA1439E33ABC4952DFB766838F629EDE',\n",
       " 'https://query.nytimes.com/gst/abstract.html?res=9A0CE4DB1E3DE23ABC4F52DFB766838F629EDE',\n",
       " 'https://query.nytimes.com/gst/abstract.html?res=9D04EED81439E33ABC4152DFB766838F629EDE',\n",
       " 'https://query.nytimes.com/gst/abstract.html?res=950CE1D81439E33ABC4152DFB766838F629EDE',\n",
       " 'https://query.nytimes.com/gst/abstract.html?res=9407E0D81439E33ABC4152DFB766838F629EDE',\n",
       " 'https://query.nytimes.com/gst/abstract.html?res=9E04E4DF113DE33ABC4851DFB766838F629EDE',\n",
       " 'https://query.nytimes.com/gst/abstract.html?res=9904E5DA1E3DE23ABC4951DFB766838F629EDE',\n",
       " 'https://query.nytimes.com/gst/abstract.html?res=9904E2DA1E3DE23ABC4951DFB766838F629EDE',\n",
       " 'https://query.nytimes.com/gst/abstract.html?res=9B0DE1DB1E3DE23ABC4951DFB766838F629EDE',\n",
       " 'https://query.nytimes.com/gst/abstract.html?res=9801EFD71439E33ABC4B51DFB766838F629EDE',\n",
       " 'https://query.nytimes.com/gst/abstract.html?res=9F01EFD61439E33ABC4C51DFB766838F629EDE',\n",
       " 'https://query.nytimes.com/gst/abstract.html?res=9A03E2DF1539E33ABC4D51DFB766838F629EDE',\n",
       " 'https://query.nytimes.com/gst/abstract.html?res=9D06E2DF1539E33ABC4D51DFB766838F629EDE',\n",
       " 'https://query.nytimes.com/gst/abstract.html?res=9E0DEEDA1E3DE23ABC4E51DFB766838F629EDE',\n",
       " 'https://query.nytimes.com/gst/abstract.html?res=9406EEDA1E3DE23ABC4E51DFB766838F629EDE',\n",
       " 'https://query.nytimes.com/gst/abstract.html?res=9B07EEDA1E3DE23ABC4E51DFB766838F629EDE',\n",
       " 'https://query.nytimes.com/gst/abstract.html?res=9B0DE6D7123EE53ABC4051DFB766838F629EDE',\n",
       " 'https://query.nytimes.com/gst/abstract.html?res=9C02E3DD113DE33ABC4B53DFB466838F629EDE',\n",
       " 'https://query.nytimes.com/gst/abstract.html?res=9902EFDF1F3DE23ABC4E53DFB466838F629EDE',\n",
       " 'https://query.nytimes.com/gst/abstract.html?res=9F03E5DE173CE733A2575BC0A9649C946594D6CF',\n",
       " 'https://query.nytimes.com/gst/abstract.html?res=990CE6DE173CE733A2575BC0A9649C946594D6CF',\n",
       " 'https://query.nytimes.com/gst/abstract.html?res=9906EEDC1F3DE23ABC4851DFB466838F629EDE',\n",
       " 'https://query.nytimes.com/gst/abstract.html?res=9E00E2D91F3DE23ABC4F51DFB466838F629EDE',\n",
       " 'https://query.nytimes.com/gst/abstract.html?res=9B06E7D81F3DE23ABC4051DFB466838F629EDE',\n",
       " 'https://query.nytimes.com/gst/abstract.html?res=9D00E1D9113DE33ABC4A53DFB566838F629EDE',\n",
       " 'https://query.nytimes.com/gst/abstract.html?res=9C01EFDA1539E33ABC4E53DFB566838F629EDE',\n",
       " 'https://query.nytimes.com/gst/abstract.html?res=9B0CE1DB163CE23ABC4A51DFB566838F629EDE',\n",
       " 'https://query.nytimes.com/gst/abstract.html?res=990DE6DF1239E33ABC4C53DFB266838F629EDE',\n",
       " 'https://query.nytimes.com/gst/abstract.html?res=9A05EFDE1E3DE33ABC4C52DFB266838F629EDE',\n",
       " 'https://query.nytimes.com/gst/abstract.html?res=9503EEDD173CE23ABC4951DFB266838F629EDE',\n",
       " 'https://query.nytimes.com/gst/abstract.html?res=9B00E3D8173CE23ABC4E51DFB266838F629EDE',\n",
       " 'https://query.nytimes.com/gst/abstract.html?res=9D0DEFDE143CE23ABC4D53DFB366838F629EDE',\n",
       " 'https://query.nytimes.com/gst/abstract.html?res=990DE0DD143CE23ABC4E53DFB366838F629EDE',\n",
       " 'https://query.nytimes.com/gst/abstract.html?res=9F0DE0DC1E3DE33ABC4F53DFB366838F629EDE',\n",
       " 'https://query.nytimes.com/gst/abstract.html?res=9405E1D7143CE23ABC4F52DFB366838F629EDE',\n",
       " 'https://query.nytimes.com/gst/abstract.html?res=9F06EFDD153CE23ABC4F51DFB366838F629EDE',\n",
       " 'https://query.nytimes.com/gst/abstract.html?res=9E01E7DE133CE23ABC4D52DFB166838F629EDE',\n",
       " 'https://query.nytimes.com/gst/abstract.html?res=9805E5DF1F3DE33ABC4A53DFBE66838F629EDE',\n",
       " 'https://query.nytimes.com/gst/abstract.html?res=9504E7DC1339E33ABC4B53DFBE66838F629EDE',\n",
       " 'https://query.nytimes.com/gst/abstract.html?res=9C0DE5DD103CE23ABC4153DFBF66838F629EDE',\n",
       " 'https://query.nytimes.com/gst/abstract.html?res=980DE3D71339E33ABC4C52DFBF66838F629EDE',\n",
       " 'https://query.nytimes.com/gst/abstract.html?res=9C03E1D9103CE23ABC4151DFBF66838F629EDE',\n",
       " 'https://query.nytimes.com/gst/abstract.html?res=9B07EFD7123FE53ABC4A53DFB767838F629EDE',\n",
       " 'https://query.nytimes.com/gst/abstract.html?res=9F03E6DA103FE53ABC4952DFB766838E629EDE',\n",
       " 'https://query.nytimes.com/gst/abstract.html?res=9B0DE5D8123DE53ABC4051DFB766838E629EDE',\n",
       " 'https://query.nytimes.com/gst/abstract.html?res=9A06E4DD113FE53ABC4053DFB466838E629EDE',\n",
       " 'https://query.nytimes.com/gst/abstract.html?res=9D04EFDF113EE53ABC4D52DFB466838E629EDE',\n",
       " 'https://query.nytimes.com/gst/abstract.html?res=9C01E0DE1F3CE23ABC4E52DFB466838E629EDE',\n",
       " 'https://query.nytimes.com/gst/abstract.html?res=9F0CE5DF1E31E13BBC4F52DFB466838E629EDE',\n",
       " 'https://query.nytimes.com/gst/abstract.html?res=940DE3DC1239E632A2575BC1A9649C946494D6CF',\n",
       " 'https://query.nytimes.com/gst/abstract.html?res=9506E2DC113FE53ABC4851DFB466838E629EDE',\n",
       " 'https://query.nytimes.com/gst/abstract.html?res=9C00E3DC133DE53ABC4951DFB466838E629EDE',\n",
       " 'https://query.nytimes.com/gst/abstract.html?res=990CE6D91E31EE32A25750C2A9649C946494D6CF',\n",
       " 'https://query.nytimes.com/gst/abstract.html?res=9F06E5D91E31EE32A25750C2A9649C946494D6CF',\n",
       " 'https://query.nytimes.com/gst/abstract.html?res=9402E1DB133DE53ABC4C51DFB466838E629EDE',\n",
       " 'https://query.nytimes.com/gst/abstract.html?res=9403E0DB133DE53ABC4C51DFB466838E629EDE',\n",
       " 'https://query.nytimes.com/gst/abstract.html?res=9405EFDA133DE53ABC4D51DFB466838E629EDE',\n",
       " 'https://query.nytimes.com/gst/abstract.html?res=990DEFD9133DE53ABC4F51DFB466838E629EDE',\n",
       " 'https://query.nytimes.com/gst/abstract.html?res=980CE3DA113FE53ABC4953DFB566838E629EDE',\n",
       " 'https://query.nytimes.com/gst/abstract.html?res=9501E2D8133DE53ABC4F53DFB566838E629EDE',\n",
       " 'https://query.nytimes.com/gst/abstract.html?res=9B05EFD8123FEE32A2575BC0A9659C946494D6CF',\n",
       " 'https://query.nytimes.com/gst/abstract.html?res=9D06E3D7133DE53ABC4153DFB566838E629EDE',\n",
       " 'https://query.nytimes.com/gst/abstract.html?res=9803E1D9113FE53ABC4952DFB566838E629EDE',\n",
       " 'https://query.nytimes.com/gst/abstract.html?res=9801E6D7113FE53ABC4E52DFB566838E629EDE',\n",
       " 'https://query.nytimes.com/gst/abstract.html?res=9B0DE1DF1E3FE53ABC4951DFB566838E629EDE',\n",
       " 'https://query.nytimes.com/gst/abstract.html?res=9A01E2DE113EE53ABC4A51DFB566838E629EDE',\n",
       " 'https://query.nytimes.com/gst/abstract.html?res=9D05EFDE113EE53ABC4A51DFB566838E629EDE',\n",
       " 'https://query.nytimes.com/gst/abstract.html?res=9804E4DC103DE53ABC4E51DFB566838E629EDE',\n",
       " 'https://query.nytimes.com/gst/abstract.html?res=9A04E2DA103DE53ABC4051DFB566838E629EDE',\n",
       " 'https://query.nytimes.com/gst/abstract.html?res=9905E3DD113EE53ABC4850DFB566838E629EDE',\n",
       " 'https://query.nytimes.com/gst/abstract.html?res=9B03E4DD113EE53ABC4850DFB566838E629EDE',\n",
       " 'https://query.nytimes.com/gst/abstract.html?res=940DE0DC1E3FE53ABC4950DFB566838E629EDE',\n",
       " 'https://query.nytimes.com/gst/abstract.html?res=9406E2DA1039E33ABC4B52DFB266838E629EDE',\n",
       " 'https://query.nytimes.com/gst/abstract.html?res=9503E2D81F3CE23ABC4C52DFB266838E629EDE',\n",
       " 'https://query.nytimes.com/gst/abstract.html?res=9A0CE5D91039E33ABC4D52DFB266838E629EDE',\n",
       " 'https://query.nytimes.com/gst/abstract.html?res=9C00EED61F3CE23ABC4152DFB266838E629EDE',\n",
       " 'https://query.nytimes.com/gst/abstract.html?res=9904EED61F3CE23ABC4152DFB266838E629EDE',\n",
       " 'https://query.nytimes.com/gst/abstract.html?res=9403E0D71039E33ABC4B51DFB266838E629EDE',\n",
       " 'https://query.nytimes.com/gst/abstract.html?res=9A03E2DD173FE23ABC4B51DFB366838E629EDE',\n",
       " 'https://query.nytimes.com/gst/abstract.html?res=9B04E0DB1239E632A25757C2A9639C946494D6CF',\n",
       " 'https://query.nytimes.com/gst/abstract.html?res=9503E2DD143EE53ABC4C53DFB766838C659EDE',\n",
       " 'https://query.nytimes.com/gst/abstract.html?res=9F00E6D7133CE13BBC4152DFB767838C659EDE',\n",
       " 'https://query.nytimes.com/gst/abstract.html?res=9A07E5DE173FEE3BBC4B53DFB7668383659EDE',\n",
       " 'https://query.nytimes.com/gst/abstract.html?res=940CE2DD1F3CE03ABC4D51DFB2668383659EDE',\n",
       " 'https://query.nytimes.com/gst/abstract.html?res=9402E4DC1F3CE03ABC4B53DFB3668383659EDE',\n",
       " 'https://query.nytimes.com/gst/abstract.html?res=9A02E7DF1E3BE33BBC4052DFB0668383659EDE',\n",
       " 'https://query.nytimes.com/gst/abstract.html?res=9901E3DF123CE23BBC4E52DFB1668383659EDE',\n",
       " 'https://query.nytimes.com/gst/abstract.html?res=9F03E5DC133EE03BBC4152DFBE668383659EDE',\n",
       " 'https://query.nytimes.com/gst/abstract.html?res=950DE2D61F3BE433A2575AC0A9669D946993D6CF',\n",
       " 'https://query.nytimes.com/gst/abstract.html?res=950DE4D81339E632A25757C2A9669D946993D6CF',\n",
       " 'https://query.nytimes.com/gst/abstract.html?res=9800EED7133EE03BBC4052DFB7678383659EDE',\n",
       " 'https://query.nytimes.com/gst/abstract.html?res=9E01E4DF123DE03ABC4D53DFB4678383659EDE',\n",
       " 'https://query.nytimes.com/gst/abstract.html?res=9502E1DD133FE23ABC4A51DFB4678383659EDE',\n",
       " 'https://query.nytimes.com/gst/abstract.html?res=9B00E6DA103EE03BBC4F52DFB7668382659EDE',\n",
       " 'https://query.nytimes.com/gst/abstract.html?res=9A0DE5D6123CE23BBC4E52DFB4668382659EDE',\n",
       " 'https://query.nytimes.com/gst/abstract.html?res=9902E4D6103EE03BBC4152DFB5668382659EDE',\n",
       " 'https://query.nytimes.com/gst/abstract.html?res=9E06EFD6133CE23BBC4951DFB2668382659EDE',\n",
       " 'https://query.nytimes.com/gst/abstract.html?res=9F01E0DF1538E13BBC4F53DFB766838B649EDE']"
      ]
     },
     "execution_count": 472,
     "metadata": {},
     "output_type": "execute_result"
    }
   ],
   "source": [
    "url_list[::-1][:100]"
   ]
  },
  {
   "cell_type": "code",
   "execution_count": 453,
   "metadata": {},
   "outputs": [
    {
     "data": {
      "text/plain": [
       "['Thorny Questions at Ground Zero',\n",
       " 'Lower Manhattan Journal; A Downtown Cobbler Gets Back on His Insoles',\n",
       " 'A Benefits Smorgasbord For Small Businesses',\n",
       " 'Business; Start-Ups No Longer Shout From the Rooftops',\n",
       " 'Still Family After All These Years; New York Companies 100 Years Old and Going Strong',\n",
       " 'Bush Administration Approves $700 Million Grant to Help Rebuild Lower Manhattan',\n",
       " 'Business; Losses Sour Companies On Venture Investments',\n",
       " 'Compressed Data; Venture Capitalists Are Making a Comeback',\n",
       " 'Technology Briefing | Finance: Venture Capitalists Raise Less',\n",
       " 'Venture Capitalists Dust Off Their Checkbooks']"
      ]
     },
     "execution_count": 453,
     "metadata": {},
     "output_type": "execute_result"
    }
   ],
   "source": [
    "headline_list[::-1][:10]"
   ]
  },
  {
   "cell_type": "code",
   "execution_count": 385,
   "metadata": {},
   "outputs": [
    {
     "name": "stdout",
     "output_type": "stream",
     "text": [
      "Trapit, a start-up that opens to the public Tuesday, offers a new way to search the Web for topics by using machine learning. It is trying to provide an alternative to Google's search engine and link sharing on Facebook and Twitter.\n",
      "Responding to the agency’s inspector general, an administrator argues that the agency is ridding its programs of contract fraud.\n",
      "Plus: How important are inspiration and creativity to your business?\n",
      "Today’s ideal social form is not the commune or the movement or even the individual creator as such. It’s the small business.\n",
      "Wantful, a new start-up with offices in San Francisco and New York, is hoping to transform the gift-giving experience with a tool that will act as a personal shopper for each person on your list. It prints a physical book listing possible gifts an...\n",
      "For $19 a month, a business owner runs all of her campaigns with Schedulicity, which allows her to send out e-mail blasts, Facebook posts and tweets for each new promotion.\n",
      "\"I'm skating this very fine line between having it under control and not having it under control,\" said the company's owner.\n",
      "Foreign-born business owners, like Abel Cherubin, must tread through a thicket of obstacles, which have only been compounded during the economic downturn.\n",
      "I decided to try an experiment: What would happen if we turned off Google AdWords? Would search-engine optimization keep the phones ringing?\n",
      "Spurned by investors and banks, restaurateurs are asking the public to help finance their dreams.\n"
     ]
    }
   ],
   "source": [
    "for i in range(len(articles['response']['docs'])):\n",
    "    print(articles['response']['docs'][i]['snippet'])"
   ]
  },
  {
   "cell_type": "code",
   "execution_count": 384,
   "metadata": {},
   "outputs": [
    {
     "data": {
      "text/plain": [
       "'Wantful, a new start-up with offices in San Francisco and New York, is hoping to transform the gift-giving experience with a tool that will act as a personal shopper for each person on your list. It prints a physical book listing possible gifts an...'"
      ]
     },
     "execution_count": 384,
     "metadata": {},
     "output_type": "execute_result"
    }
   ],
   "source": [
    "articles['response']['docs'][4]['snippet']"
   ]
  },
  {
   "cell_type": "code",
   "execution_count": 372,
   "metadata": {},
   "outputs": [
    {
     "data": {
      "text/plain": [
       "'2011-11-12T21:56:21+0000'"
      ]
     },
     "execution_count": 372,
     "metadata": {},
     "output_type": "execute_result"
    }
   ],
   "source": [
    "articles['response']['docs'][3]['pub_date']"
   ]
  },
  {
   "cell_type": "code",
   "execution_count": 363,
   "metadata": {},
   "outputs": [
    {
     "data": {
      "text/plain": [
       "'https://www.nytimes.com/2018/07/21/technology/china-future-robot-waiters.html'"
      ]
     },
     "execution_count": 363,
     "metadata": {},
     "output_type": "execute_result"
    }
   ],
   "source": [
    "articles['response']['docs'][0]['web_url']"
   ]
  },
  {
   "cell_type": "code",
   "execution_count": 336,
   "metadata": {},
   "outputs": [
    {
     "data": {
      "text/plain": [
       "[{'major': 'N',\n",
       "  'name': 'subject',\n",
       "  'rank': 1,\n",
       "  'value': 'Relocation of Business'},\n",
       " {'major': 'N', 'name': 'subject', 'rank': 2, 'value': 'Media'},\n",
       " {'major': 'N',\n",
       "  'name': 'subject',\n",
       "  'rank': 3,\n",
       "  'value': 'Real Estate (Commercial)'},\n",
       " {'major': 'N',\n",
       "  'name': 'organizations',\n",
       "  'rank': 4,\n",
       "  'value': 'Walt Disney Company'},\n",
       " {'major': 'N',\n",
       "  'name': 'organizations',\n",
       "  'rank': 5,\n",
       "  'value': 'Trinity Church (Manhattan, NY)'},\n",
       " {'major': 'N', 'name': 'glocations', 'rank': 6, 'value': 'Manhattan (NYC)'}]"
      ]
     },
     "execution_count": 336,
     "metadata": {},
     "output_type": "execute_result"
    }
   ],
   "source": [
    "articles['response']['docs'][0]['keywords']"
   ]
  },
  {
   "cell_type": "code",
   "execution_count": 381,
   "metadata": {},
   "outputs": [
    {
     "data": {
      "text/plain": [
       "'Solving 3 Marketing Problems with One Online Tool'"
      ]
     },
     "execution_count": 381,
     "metadata": {},
     "output_type": "execute_result"
    }
   ],
   "source": [
    "articles['response']['docs'][5]['headline']['main']"
   ]
  },
  {
   "cell_type": "code",
   "execution_count": 225,
   "metadata": {},
   "outputs": [
    {
     "data": {
      "text/plain": [
       "[{'major': 'N',\n",
       "  'name': 'subject',\n",
       "  'rank': 1,\n",
       "  'value': 'Computers and the Internet'},\n",
       " {'major': 'N', 'name': 'subject', 'rank': 2, 'value': 'Social Media'},\n",
       " {'major': 'N', 'name': 'subject', 'rank': 3, 'value': 'Start-ups'},\n",
       " {'major': 'N', 'name': 'organizations', 'rank': 4, 'value': 'Amazon.com Inc'},\n",
       " {'major': 'N', 'name': 'organizations', 'rank': 5, 'value': 'Apple Inc'},\n",
       " {'major': 'N', 'name': 'organizations', 'rank': 6, 'value': 'Facebook Inc'},\n",
       " {'major': 'N', 'name': 'organizations', 'rank': 7, 'value': 'Google Inc'},\n",
       " {'major': 'N', 'name': 'organizations', 'rank': 8, 'value': 'Instagram Inc'},\n",
       " {'major': 'N',\n",
       "  'name': 'organizations',\n",
       "  'rank': 9,\n",
       "  'value': 'Uber Technologies Inc'},\n",
       " {'major': 'N', 'name': 'organizations', 'rank': 10, 'value': 'Twitter'},\n",
       " {'major': 'N', 'name': 'organizations', 'rank': 11, 'value': 'Netflix Inc'},\n",
       " {'major': 'N', 'name': 'persons', 'rank': 12, 'value': 'Zuckerberg, Mark E'}]"
      ]
     },
     "execution_count": 225,
     "metadata": {},
     "output_type": "execute_result"
    }
   ],
   "source": [
    "articles['response']['docs'][0]['keywords']"
   ]
  },
  {
   "cell_type": "code",
   "execution_count": 144,
   "metadata": {},
   "outputs": [
    {
     "data": {
      "text/plain": [
       "{'_id': '5248440538f0d8198973ea53',\n",
       " 'blog': {},\n",
       " 'byline': {'organization': None,\n",
       "  'original': 'None None',\n",
       "  'person': [{'firstname': 'None',\n",
       "    'lastname': 'None',\n",
       "    'middlename': None,\n",
       "    'organization': '',\n",
       "    'qualifier': None,\n",
       "    'rank': 1,\n",
       "    'role': 'reported',\n",
       "    'title': None}]},\n",
       " 'document_type': 'multimedia',\n",
       " 'headline': {'content_kicker': None,\n",
       "  'kicker': None,\n",
       "  'main': 'TerraCycle',\n",
       "  'name': None,\n",
       "  'print_headline': None,\n",
       "  'seo': None,\n",
       "  'sub': 'How I Saved My Company'},\n",
       " 'keywords': [{'major': None,\n",
       "   'name': 'subject',\n",
       "   'rank': 1,\n",
       "   'value': 'Recycling of Waste Materials'},\n",
       "  {'major': None, 'name': 'subject', 'rank': 2, 'value': 'Small Business'}],\n",
       " 'multimedia': [{'caption': None,\n",
       "   'credit': None,\n",
       "   'crop_name': None,\n",
       "   'height': 126,\n",
       "   'legacy': {'wide': 'images/2010/06/02/business/smallbusiness/8811_1_company_190x126.jpg',\n",
       "    'wideheight': '126',\n",
       "    'widewidth': '190'},\n",
       "   'rank': 0,\n",
       "   'subType': 'wide',\n",
       "   'subtype': 'wide',\n",
       "   'type': 'image',\n",
       "   'url': 'images/2010/06/02/business/smallbusiness/8811_1_company_190x126.jpg',\n",
       "   'width': 190},\n",
       "  {'caption': None,\n",
       "   'credit': None,\n",
       "   'crop_name': None,\n",
       "   'height': 75,\n",
       "   'legacy': {'thumbnail': 'images/2010/06/02/business/smallbusiness/8811_1_company_75x75.jpg',\n",
       "    'thumbnailheight': '75',\n",
       "    'thumbnailwidth': '75'},\n",
       "   'rank': 0,\n",
       "   'subType': 'thumbnail',\n",
       "   'subtype': 'thumbnail',\n",
       "   'type': 'image',\n",
       "   'url': 'images/2010/06/02/business/smallbusiness/8811_1_company_75x75.jpg',\n",
       "   'width': 75}],\n",
       " 'news_desk': 'Business Day / Small Business',\n",
       " 'pub_date': '2010-06-02T15:42:47Z',\n",
       " 'score': 1.0,\n",
       " 'section_name': 'Small Business',\n",
       " 'snippet': 'Tom Szaky, the founder and C.E.O. of TerraCycle, explains how he saved his company despite mounting manufacturing costs.',\n",
       " 'source': 'The New York Times',\n",
       " 'type_of_material': 'Video',\n",
       " 'web_url': 'https://www.nytimes.com/video/business/smallbusiness/1247467968515/terracycle.html',\n",
       " 'word_count': 18}"
      ]
     },
     "execution_count": 144,
     "metadata": {},
     "output_type": "execute_result"
    }
   ],
   "source": [
    "# small business search\n",
    "articles['response']['docs'][0]"
   ]
  },
  {
   "cell_type": "code",
   "execution_count": null,
   "metadata": {},
   "outputs": [],
   "source": []
  }
 ],
 "metadata": {
  "kernelspec": {
   "display_name": "Python 3",
   "language": "python",
   "name": "python3"
  },
  "language_info": {
   "codemirror_mode": {
    "name": "ipython",
    "version": 3
   },
   "file_extension": ".py",
   "mimetype": "text/x-python",
   "name": "python",
   "nbconvert_exporter": "python",
   "pygments_lexer": "ipython3",
   "version": "3.6.8"
  }
 },
 "nbformat": 4,
 "nbformat_minor": 2
}
